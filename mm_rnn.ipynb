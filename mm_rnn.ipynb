{
 "cells": [
  {
   "cell_type": "code",
   "execution_count": 1,
   "metadata": {},
   "outputs": [],
   "source": [
    "import torch\n",
    "import torch.nn.functional as F\n",
    "import matplotlib.pyplot as plt # for making figures\n",
    "%matplotlib inline"
   ]
  },
  {
   "cell_type": "code",
   "execution_count": 2,
   "metadata": {},
   "outputs": [
    {
     "data": {
      "text/plain": [
       "['emma', 'olivia', 'ava', 'isabella', 'sophia', 'charlotte', 'mia', 'amelia']"
      ]
     },
     "execution_count": 2,
     "metadata": {},
     "output_type": "execute_result"
    }
   ],
   "source": [
    "# read in all the words\n",
    "words = open('names.txt', 'r').read().splitlines()\n",
    "words[:8]"
   ]
  },
  {
   "cell_type": "code",
   "execution_count": 3,
   "metadata": {},
   "outputs": [
    {
     "name": "stdout",
     "output_type": "stream",
     "text": [
      "{1: 'a', 2: 'b', 3: 'c', 4: 'd', 5: 'e', 6: 'f', 7: 'g', 8: 'h', 9: 'i', 10: 'j', 11: 'k', 12: 'l', 13: 'm', 14: 'n', 15: 'o', 16: 'p', 17: 'q', 18: 'r', 19: 's', 20: 't', 21: 'u', 22: 'v', 23: 'w', 24: 'x', 25: 'y', 26: 'z', 0: '.'}\n",
      "27\n"
     ]
    }
   ],
   "source": [
    "# build the vocabulary of characters and mappings to/from integers\n",
    "chars = sorted(list(set(''.join(words))))\n",
    "stoi = {s:i+1 for i,s in enumerate(chars)}\n",
    "stoi['.'] = 0\n",
    "itos = {i:s for s,i in stoi.items()}\n",
    "vocab_size = len(itos)\n",
    "print(itos)\n",
    "print(vocab_size)\n"
   ]
  },
  {
   "cell_type": "code",
   "execution_count": 67,
   "metadata": {},
   "outputs": [
    {
     "name": "stdout",
     "output_type": "stream",
     "text": [
      "torch.Size([182580, 3]) torch.Size([182580])\n",
      "torch.Size([22767, 3]) torch.Size([22767])\n",
      "torch.Size([22799, 3]) torch.Size([22799])\n"
     ]
    }
   ],
   "source": [
    "# build the dataset\n",
    "block_size = 3 # context length: how many characters do we take to predict the next one?\n",
    "\n",
    "def build_dataset(words):  \n",
    "  X, Y = [], []\n",
    "  \n",
    "  for w in words:\n",
    "    context = [0] * block_size\n",
    "    for ch in w + '.':\n",
    "      ix = stoi[ch]\n",
    "      X.append(context)\n",
    "      Y.append(ix)\n",
    "      context = context[1:] + [ix] # crop and append\n",
    "\n",
    "  X = torch.tensor(X)\n",
    "  Y = torch.tensor(Y)\n",
    "  print(X.shape, Y.shape)\n",
    "  return X, Y\n",
    "\n",
    "import random\n",
    "random.seed(42)\n",
    "random.shuffle(words)\n",
    "n1 = int(0.8*len(words))\n",
    "n2 = int(0.9*len(words))\n",
    "\n",
    "Xtr,  Ytr  = build_dataset(words[:n1])     # 80%\n",
    "Xdev, Ydev = build_dataset(words[n1:n2])   # 10%\n",
    "Xte,  Yte  = build_dataset(words[n2:])     # 10%\n"
   ]
  },
  {
   "cell_type": "code",
   "execution_count": 87,
   "metadata": {},
   "outputs": [
    {
     "name": "stdout",
     "output_type": "stream",
     "text": [
      "12097\n"
     ]
    }
   ],
   "source": [
    "# MLP revisited\n",
    "n_embd = 10 # the dimensionality of the character embedding vectors\n",
    "n_hidden = 200 # the number of neurons in the hidden layer of the MLP\n",
    "\n",
    "g = torch.Generator().manual_seed(2147483647) # for reproducibility\n",
    "C  = torch.randn((vocab_size, n_embd),            generator=g)\n",
    "W1 = torch.randn((n_embd * block_size, n_hidden), generator=g) * (5/3)/ (n_embd * block_size) ** 0.5\n",
    "# b1 = torch.randn(n_hidden,                        generator=g) * 0.01 # small initialization\n",
    "W2 = torch.randn((n_hidden, vocab_size),          generator=g) * 0.01 # small initialization\n",
    "b2 = torch.randn(vocab_size,                      generator=g) * 0 # zero initialization\n",
    "\n",
    "bngain = torch.ones((1, n_hidden)) # batch normalization gain\n",
    "bnbias = torch.zeros((1, n_hidden)) # batch normalization bias\n",
    "bnmean_running = torch.zeros((1, n_hidden)) # running mean of the batch norm\n",
    "bnstd_running = torch.ones((1, n_hidden)) # running standard deviation of the batch norm\n",
    "\n",
    "parameters = [C, W1,  W2, b2, bngain, bnbias]\n",
    "print(sum(p.nelement() for p in parameters))\n",
    "for p in parameters:\n",
    "    p.requires_grad = True"
   ]
  },
  {
   "cell_type": "code",
   "execution_count": null,
   "metadata": {},
   "outputs": [],
   "source": []
  },
  {
   "cell_type": "code",
   "execution_count": 89,
   "metadata": {},
   "outputs": [
    {
     "name": "stdout",
     "output_type": "stream",
     "text": [
      "      0/ 200000: 2.1217\n",
      "  10000/ 200000: 2.0989\n",
      "  20000/ 200000: 2.3377\n",
      "  30000/ 200000: 2.3451\n",
      "  40000/ 200000: 2.4895\n",
      "  50000/ 200000: 1.9879\n",
      "  60000/ 200000: 2.2636\n",
      "  70000/ 200000: 2.1880\n",
      "  80000/ 200000: 2.0735\n",
      "  90000/ 200000: 2.0768\n",
      " 100000/ 200000: 2.1153\n",
      " 110000/ 200000: 1.7320\n",
      " 120000/ 200000: 1.9312\n",
      " 130000/ 200000: 1.7534\n",
      " 140000/ 200000: 1.9902\n",
      " 150000/ 200000: 1.5777\n",
      " 160000/ 200000: 1.8954\n",
      " 170000/ 200000: 2.1763\n",
      " 180000/ 200000: 1.9973\n",
      " 190000/ 200000: 1.9562\n"
     ]
    }
   ],
   "source": [
    "# same optimization as last time\n",
    "max_steps = 200000\n",
    "batch_size = 32\n",
    "lossi = []\n",
    "\n",
    "for i in range(max_steps):\n",
    "  \n",
    "  # minibatch construct\n",
    "  ix = torch.randint(0, Xtr.shape[0], (batch_size,), generator=g)\n",
    "  Xb, Yb = Xtr[ix], Ytr[ix] # batch X,Y\n",
    "  \n",
    "  # forward pass\n",
    "  emb = C[Xb] # embed the characters into vectors\n",
    "  embcat = emb.view(emb.shape[0], -1) # concatenate the vectors\n",
    "  # Linear layer\n",
    "  hpreact = embcat @ W1 #+ b1 # hidden layer pre-activation\n",
    "  # batch normalization layer \n",
    "  bnmeani = hpreact.mean(0, keepdim=True)\n",
    "  bnstdi = hpreact.std(0, keepdim=True)\n",
    "  hpreact = bngain * (hpreact - bnmeani) / bnstdi + bnbias\n",
    "\n",
    "  with torch.no_grad():\n",
    "    bnmean_running = 0.999 * bnmean_running + 0.001 * bnmeani\n",
    "    bnstd_running = 0.999 * bnstd_running + 0.001 * bnstdi\n",
    "\n",
    "  h = torch.tanh(hpreact) # hidden layer\n",
    "  logits = h @ W2 + b2 # output layer\n",
    "  loss = F.cross_entropy(logits, Yb) # loss function\n",
    "  \n",
    "  # backward pass\n",
    "  for p in parameters: p.grad = None\n",
    "  loss.backward()\n",
    "  \n",
    "  # update\n",
    "  lr = 0.1 if i < 100000 else 0.01 # step learning rate decay\n",
    "  for p in parameters:\n",
    "    p.data += -lr * p.grad\n",
    "\n",
    "  # track stats\n",
    "  if i % 10000 == 0: # print every once in a while\n",
    "    print(f'{i:7d}/{max_steps:7d}: {loss.item():.4f}')\n",
    "  lossi.append(loss.log10().item())\n",
    "  # break\n",
    "  "
   ]
  },
  {
   "cell_type": "code",
   "execution_count": null,
   "metadata": {},
   "outputs": [],
   "source": []
  },
  {
   "cell_type": "code",
   "execution_count": 52,
   "metadata": {},
   "outputs": [
    {
     "data": {
      "text/plain": [
       "(array([143., 172., 172., 161., 142., 151., 133., 116., 116., 143.,  95.,\n",
       "        104., 126., 111., 119.,  91.,  86.,  90., 115., 100., 112., 122.,\n",
       "        111.,  77., 103., 119., 100., 106.,  91.,  90., 117., 114., 116.,\n",
       "        115., 107., 131., 111., 109., 114., 118., 142., 127., 162., 169.,\n",
       "        152., 197., 184., 192., 208., 198.]),\n",
       " array([-9.98924255e-01, -9.58988956e-01, -9.19053657e-01, -8.79118358e-01,\n",
       "        -8.39183059e-01, -7.99247760e-01, -7.59312460e-01, -7.19377161e-01,\n",
       "        -6.79441862e-01, -6.39506563e-01, -5.99571264e-01, -5.59635965e-01,\n",
       "        -5.19700665e-01, -4.79765366e-01, -4.39830067e-01, -3.99894768e-01,\n",
       "        -3.59959469e-01, -3.20024170e-01, -2.80088871e-01, -2.40153571e-01,\n",
       "        -2.00218272e-01, -1.60282973e-01, -1.20347674e-01, -8.04123747e-02,\n",
       "        -4.04770756e-02, -5.41776419e-04,  3.93935227e-02,  7.93288219e-02,\n",
       "         1.19264121e-01,  1.59199420e-01,  1.99134719e-01,  2.39070019e-01,\n",
       "         2.79005318e-01,  3.18940617e-01,  3.58875916e-01,  3.98811215e-01,\n",
       "         4.38746514e-01,  4.78681813e-01,  5.18617113e-01,  5.58552412e-01,\n",
       "         5.98487711e-01,  6.38423010e-01,  6.78358309e-01,  7.18293608e-01,\n",
       "         7.58228908e-01,  7.98164207e-01,  8.38099506e-01,  8.78034805e-01,\n",
       "         9.17970104e-01,  9.57905403e-01,  9.97840703e-01]),\n",
       " <BarContainer object of 50 artists>)"
      ]
     },
     "execution_count": 52,
     "metadata": {},
     "output_type": "execute_result"
    },
    {
     "data": {
      "image/png": "[encoded data removed]",
      "text/plain": [
       "<Figure size 640x480 with 1 Axes>"
      ]
     },
     "metadata": {},
     "output_type": "display_data"
    }
   ],
   "source": [
    "plt.hist(h.view(-1).tolist(), 50)"
   ]
  },
  {
   "cell_type": "code",
   "execution_count": 53,
   "metadata": {},
   "outputs": [
    {
     "data": {
      "text/plain": [
       "(array([  1.,   2.,   0.,   1.,   5.,   3.,  11.,   6.,  13.,  10.,  25.,\n",
       "         40.,  40.,  77.,  63., 101., 127., 171., 184., 220., 227., 267.,\n",
       "        312., 301., 356., 367., 376., 360., 370., 331., 298., 278., 292.,\n",
       "        242., 191., 167., 137., 104.,  85.,  77.,  41.,  30.,  28.,  20.,\n",
       "         11.,   7.,  11.,   5.,   2.,   7.]),\n",
       " array([-3.76367116, -3.6200974 , -3.47652364, -3.33294988, -3.18937612,\n",
       "        -3.04580235, -2.90222859, -2.75865483, -2.61508107, -2.47150731,\n",
       "        -2.32793355, -2.18435979, -2.04078603, -1.89721227, -1.75363851,\n",
       "        -1.61006474, -1.46649098, -1.32291722, -1.17934346, -1.0357697 ,\n",
       "        -0.89219594, -0.74862218, -0.60504842, -0.46147466, -0.3179009 ,\n",
       "        -0.17432714, -0.03075337,  0.11282039,  0.25639415,  0.39996791,\n",
       "         0.54354167,  0.68711543,  0.83068919,  0.97426295,  1.11783671,\n",
       "         1.26141047,  1.40498424,  1.548558  ,  1.69213176,  1.83570552,\n",
       "         1.97927928,  2.12285304,  2.2664268 ,  2.41000056,  2.55357432,\n",
       "         2.69714808,  2.84072185,  2.98429561,  3.12786937,  3.27144313,\n",
       "         3.41501689]),\n",
       " <BarContainer object of 50 artists>)"
      ]
     },
     "execution_count": 53,
     "metadata": {},
     "output_type": "execute_result"
    },
    {
     "data": {
      "image/png": "[encoded data removed]",
      "text/plain": [
       "<Figure size 640x480 with 1 Axes>"
      ]
     },
     "metadata": {},
     "output_type": "display_data"
    }
   ],
   "source": [
    "plt.hist(hpreact.view(-1).tolist(), 50)"
   ]
  },
  {
   "cell_type": "code",
   "execution_count": 54,
   "metadata": {},
   "outputs": [
    {
     "data": {
      "text/plain": [
       "<matplotlib.image.AxesImage at 0x301edb380>"
      ]
     },
     "execution_count": 54,
     "metadata": {},
     "output_type": "execute_result"
    },
    {
     "data": {
      "image/png": "[encoded data removed]",
      "text/plain": [
       "<Figure size 640x480 with 1 Axes>"
      ]
     },
     "metadata": {},
     "output_type": "display_data"
    }
   ],
   "source": [
    "plt.imshow(h.abs() > 0.99, cmap='gray', interpolation='nearest')"
   ]
  },
  {
   "cell_type": "code",
   "execution_count": 22,
   "metadata": {},
   "outputs": [
    {
     "data": {
      "text/plain": [
       "tensor(3.2958)"
      ]
     },
     "execution_count": 22,
     "metadata": {},
     "output_type": "execute_result"
    }
   ],
   "source": [
    "-torch.tensor(1/27).log()"
   ]
  },
  {
   "cell_type": "code",
   "execution_count": 90,
   "metadata": {},
   "outputs": [
    {
     "data": {
      "text/plain": [
       "[<matplotlib.lines.Line2D at 0x30e65d370>]"
      ]
     },
     "execution_count": 90,
     "metadata": {},
     "output_type": "execute_result"
    },
    {
     "data": {
      "image/png": "[encoded data removed]",
      "text/plain": [
       "<Figure size 640x480 with 1 Axes>"
      ]
     },
     "metadata": {},
     "output_type": "display_data"
    }
   ],
   "source": [
    "plt.plot(lossi)"
   ]
  },
  {
   "cell_type": "code",
   "execution_count": 80,
   "metadata": {},
   "outputs": [],
   "source": [
    "# calibrate the batch norm at the end of training\n",
    "\n",
    "with torch.no_grad():\n",
    "  # pass the training set through\n",
    "  emb = C[Xtr]\n",
    "  embcat = emb.view(emb.shape[0], -1)\n",
    "  hpreact = embcat @ W1 + b1\n",
    "  # measure the mean/std over the entire training set\n",
    "  bnmean = hpreact.mean(0, keepdim=True)\n",
    "  bnstd = hpreact.std(0, keepdim=True)\n"
   ]
  },
  {
   "cell_type": "code",
   "execution_count": 81,
   "metadata": {},
   "outputs": [
    {
     "data": {
      "text/plain": [
       "tensor([[-2.1171,  0.5151, -1.0355,  1.1472,  0.6457,  0.3297,  1.8942, -0.4451,\n",
       "          0.7888,  2.1818, -2.5897, -2.1385, -0.5529, -0.8029, -0.5847, -0.7731,\n",
       "          0.3468, -1.7540, -0.5939,  1.5619, -0.5667, -0.2291, -0.3648,  0.2870,\n",
       "          1.2614,  1.7647,  1.3128,  0.3417,  1.0104,  1.6196, -0.6550, -0.9392,\n",
       "          0.7127, -0.2059,  0.4415, -0.9259, -1.5156,  0.2045,  0.0871,  0.9062,\n",
       "          0.1703, -1.0021, -0.5580, -0.1233,  0.8608,  0.2529,  0.9942, -1.4480,\n",
       "          2.0848,  1.2254,  1.4297,  0.1473,  2.2828,  0.7296,  0.9589, -2.5080,\n",
       "         -0.3612,  0.7972,  2.2360, -1.4968, -0.2657,  0.9916,  0.8040,  0.4386,\n",
       "          1.2355,  1.3860, -0.2402,  1.4185, -0.5125, -0.2784,  0.0867,  0.6063,\n",
       "          0.6205, -1.8870, -2.3069,  0.4171,  1.2391, -0.0953,  0.2780,  0.4433,\n",
       "         -0.2146,  1.2354,  1.2541,  1.0807,  0.3930, -0.6237, -0.8048, -0.0700,\n",
       "          2.7139, -0.2097, -0.9276,  1.2881, -0.9340, -1.0923, -1.5613,  0.5643,\n",
       "         -0.1310, -0.3507, -0.7891, -1.1774,  0.4807, -0.2515, -1.8469,  1.9698,\n",
       "          0.2467, -0.0156, -0.8294, -0.2014,  1.1951, -0.3624,  0.7375, -0.0484,\n",
       "         -0.0085,  2.2454,  2.3364,  2.2016,  0.3680,  0.6068,  0.3758, -0.6841,\n",
       "         -1.2759, -1.5588,  0.4971,  0.6110, -1.6081, -0.5333, -0.7442, -0.8421,\n",
       "         -1.6884, -0.1242,  1.6356, -0.2317,  0.2512,  1.2128,  0.0837,  1.6646,\n",
       "         -0.8020,  2.1222,  0.9269,  1.0581,  1.1900, -0.5076,  1.1424,  0.4329,\n",
       "          0.3295,  1.1779,  0.8318,  0.2083, -0.5243,  0.8112, -1.3944,  0.8678,\n",
       "          0.9575,  0.9025,  0.5679, -0.8277,  0.8714, -1.1594, -0.7480,  0.9182,\n",
       "          0.3934, -0.8035,  0.5615, -2.4144, -0.7663, -0.5729,  0.9039,  1.1114,\n",
       "         -1.2297, -1.7507,  0.0875, -1.1365, -0.1900, -1.1254, -0.8553,  1.3000,\n",
       "          1.9131, -0.1587,  1.4100, -1.5035,  1.2248,  0.6832,  1.2449, -0.3271,\n",
       "          0.6292, -0.1331, -0.5937, -2.0093,  2.1534,  0.9262,  0.6713,  1.3812,\n",
       "         -0.4383,  1.1604,  1.1053,  1.3600,  1.6363, -1.0735,  0.0215,  1.2046]])"
      ]
     },
     "execution_count": 81,
     "metadata": {},
     "output_type": "execute_result"
    }
   ],
   "source": [
    "bnmean"
   ]
  },
  {
   "cell_type": "code",
   "execution_count": 82,
   "metadata": {},
   "outputs": [
    {
     "data": {
      "text/plain": [
       "tensor([[-2.1052,  0.5062, -1.0491,  1.1578,  0.6408,  0.3288,  1.9093, -0.4267,\n",
       "          0.7898,  2.1971, -2.5673, -2.1399, -0.5380, -0.8096, -0.5738, -0.7688,\n",
       "          0.3398, -1.7605, -0.5851,  1.5557, -0.5555, -0.2153, -0.3661,  0.2812,\n",
       "          1.2576,  1.7618,  1.3153,  0.3318,  1.0108,  1.6235, -0.6543, -0.9489,\n",
       "          0.7128, -0.2062,  0.4278, -0.9170, -1.5013,  0.2250,  0.0677,  0.9039,\n",
       "          0.1810, -0.9840, -0.5668, -0.1117,  0.8465,  0.2390,  0.9984, -1.4425,\n",
       "          2.0987,  1.2389,  1.4190,  0.1478,  2.2976,  0.7490,  0.9491, -2.4884,\n",
       "         -0.3599,  0.7966,  2.2169, -1.4949, -0.2631,  0.9898,  0.8070,  0.4637,\n",
       "          1.2416,  1.3894, -0.2368,  1.4214, -0.5096, -0.2794,  0.0982,  0.5819,\n",
       "          0.6431, -1.8995, -2.3053,  0.4097,  1.2177, -0.1014,  0.2751,  0.4428,\n",
       "         -0.2150,  1.2323,  1.2707,  1.0634,  0.3814, -0.6506, -0.8102, -0.0687,\n",
       "          2.7042, -0.2174, -0.9457,  1.2814, -0.9254, -1.0830, -1.5526,  0.5789,\n",
       "         -0.1294, -0.3462, -0.7685, -1.1908,  0.4953, -0.2601, -1.8249,  1.9824,\n",
       "          0.2530, -0.0134, -0.8367, -0.2038,  1.1916, -0.3706,  0.7451, -0.0470,\n",
       "          0.0078,  2.2416,  2.3464,  2.2020,  0.3712,  0.6263,  0.3661, -0.6877,\n",
       "         -1.2822, -1.5805,  0.4916,  0.5990, -1.6070, -0.5284, -0.7280, -0.8386,\n",
       "         -1.6986, -0.1311,  1.6268, -0.2415,  0.2548,  1.2017,  0.0891,  1.6597,\n",
       "         -0.8038,  2.1429,  0.9276,  1.0410,  1.1849, -0.5110,  1.1588,  0.4237,\n",
       "          0.3439,  1.1880,  0.8391,  0.2111, -0.5311,  0.8164, -1.3986,  0.8813,\n",
       "          0.9609,  0.8892,  0.5636, -0.8397,  0.8768, -1.1443, -0.7690,  0.9191,\n",
       "          0.3944, -0.8103,  0.5651, -2.4100, -0.7622, -0.5725,  0.9167,  1.1156,\n",
       "         -1.2332, -1.7375,  0.0901, -1.1315, -0.1744, -1.1485, -0.8617,  1.2895,\n",
       "          1.9217, -0.1469,  1.4241, -1.4917,  1.2375,  0.6992,  1.2620, -0.3214,\n",
       "          0.6237, -0.1365, -0.5920, -1.9932,  2.1536,  0.9429,  0.6667,  1.3723,\n",
       "         -0.4280,  1.1713,  1.1086,  1.3756,  1.6376, -1.0868,  0.0163,  1.2020]])"
      ]
     },
     "execution_count": 82,
     "metadata": {},
     "output_type": "execute_result"
    }
   ],
   "source": [
    "bnmean_running"
   ]
  },
  {
   "cell_type": "code",
   "execution_count": 83,
   "metadata": {},
   "outputs": [
    {
     "data": {
      "text/plain": [
       "tensor([[2.2111, 2.0414, 2.1088, 2.1512, 2.0430, 2.3066, 2.2349, 2.1786, 2.3096,\n",
       "         2.0607, 2.3993, 2.1107, 2.2468, 1.8811, 1.9327, 2.8541, 2.2610, 1.9206,\n",
       "         2.2061, 2.5271, 2.3753, 2.2468, 1.9632, 2.2141, 2.2025, 2.1244, 2.0631,\n",
       "         2.5196, 2.5540, 2.4630, 1.6658, 2.0516, 2.3855, 2.0303, 1.9773, 1.9207,\n",
       "         2.5583, 2.0752, 2.1791, 1.7478, 2.0707, 1.9989, 2.5697, 1.8804, 2.3541,\n",
       "         2.2724, 2.1521, 2.6761, 2.2714, 2.2614, 1.9797, 1.9141, 2.0429, 1.9122,\n",
       "         2.2140, 2.2613, 2.0620, 2.1825, 2.8875, 2.1817, 2.1603, 2.0079, 1.9846,\n",
       "         2.2921, 2.3623, 2.1728, 2.0889, 2.4023, 1.8486, 2.0643, 2.1030, 1.9756,\n",
       "         2.1791, 2.0125, 2.0122, 1.7283, 2.4878, 2.3244, 2.0167, 2.2652, 2.0425,\n",
       "         1.9840, 2.0905, 2.3703, 2.2210, 2.3089, 2.1877, 2.4027, 2.4627, 2.7662,\n",
       "         2.0901, 1.8525, 2.0730, 1.8779, 1.8429, 2.1629, 2.0939, 1.9083, 2.1869,\n",
       "         2.2990, 2.0871, 2.2006, 2.1410, 2.2367, 1.9944, 2.2457, 1.8839, 2.1320,\n",
       "         1.8811, 2.1227, 2.2137, 2.2424, 2.0568, 2.2614, 2.3343, 2.2395, 1.6493,\n",
       "         1.6808, 1.9696, 2.0789, 2.1940, 2.1824, 2.1118, 2.2230, 2.2284, 2.1458,\n",
       "         2.3686, 1.6104, 1.9800, 2.5750, 1.7836, 2.4788, 2.2582, 2.0328, 1.8469,\n",
       "         2.2733, 2.2653, 2.7966, 1.9688, 1.9170, 1.9776, 1.7347, 1.9508, 2.1816,\n",
       "         2.0886, 2.3518, 2.2516, 2.0106, 2.1958, 1.8674, 1.8540, 2.3247, 1.9450,\n",
       "         2.1565, 2.1132, 2.3186, 2.0080, 2.1112, 1.8496, 1.8351, 2.1948, 1.8069,\n",
       "         2.0306, 2.2157, 2.1779, 1.8007, 2.4105, 2.0620, 1.5842, 2.0144, 1.7531,\n",
       "         2.0964, 2.2871, 2.0910, 2.4072, 1.9230, 2.2783, 2.1820, 2.4268, 2.0403,\n",
       "         2.4917, 2.0589, 2.2317, 1.8235, 1.9953, 2.3035, 1.9995, 1.8524, 2.2734,\n",
       "         2.1761, 1.9818, 2.1156, 2.0342, 1.8697, 2.0891, 1.9186, 2.1053, 2.5567,\n",
       "         2.2972, 1.7619]])"
      ]
     },
     "execution_count": 83,
     "metadata": {},
     "output_type": "execute_result"
    }
   ],
   "source": [
    "bnstd"
   ]
  },
  {
   "cell_type": "code",
   "execution_count": 84,
   "metadata": {},
   "outputs": [
    {
     "data": {
      "text/plain": [
       "tensor([[2.2030, 2.0195, 2.0998, 2.1248, 2.0291, 2.2906, 2.2242, 2.1432, 2.2934,\n",
       "         2.0363, 2.3802, 2.0948, 2.2339, 1.8748, 1.9036, 2.8334, 2.2508, 1.9044,\n",
       "         2.1870, 2.5079, 2.3591, 2.2196, 1.9478, 2.2009, 2.1996, 2.1080, 2.0470,\n",
       "         2.4871, 2.5198, 2.4299, 1.6562, 2.0355, 2.3704, 2.0184, 1.9683, 1.8921,\n",
       "         2.5442, 2.0547, 2.1625, 1.7325, 2.0561, 1.9847, 2.5524, 1.8721, 2.3298,\n",
       "         2.2723, 2.1270, 2.6336, 2.2524, 2.2493, 1.9543, 1.8907, 2.0204, 1.8932,\n",
       "         2.1920, 2.2426, 2.0363, 2.1669, 2.8736, 2.1454, 2.1583, 2.0002, 1.9726,\n",
       "         2.2755, 2.3424, 2.1529, 2.0752, 2.3844, 1.8329, 2.0456, 2.0832, 1.9610,\n",
       "         2.1782, 1.9896, 2.0066, 1.7171, 2.4608, 2.3095, 2.0104, 2.2371, 2.0314,\n",
       "         1.9588, 2.0787, 2.3496, 2.1894, 2.2924, 2.1731, 2.3748, 2.4559, 2.7414,\n",
       "         2.0677, 1.8271, 2.0672, 1.8647, 1.8210, 2.1454, 2.0712, 1.8953, 2.1554,\n",
       "         2.2833, 2.0686, 2.1829, 2.1135, 2.2232, 1.9766, 2.2291, 1.8600, 2.1242,\n",
       "         1.8527, 2.0952, 2.1842, 2.2178, 2.0308, 2.2305, 2.3254, 2.2188, 1.6373,\n",
       "         1.6695, 1.9543, 2.0589, 2.1674, 2.1750, 2.0879, 2.1890, 2.2078, 2.1289,\n",
       "         2.3373, 1.5946, 1.9647, 2.5361, 1.7618, 2.4541, 2.2444, 2.0134, 1.8295,\n",
       "         2.2546, 2.2498, 2.7861, 1.9558, 1.9009, 1.9572, 1.7197, 1.9353, 2.1612,\n",
       "         2.0675, 2.3375, 2.2407, 2.0021, 2.1701, 1.8521, 1.8370, 2.3050, 1.9360,\n",
       "         2.1426, 2.0866, 2.3081, 1.9819, 2.0873, 1.8219, 1.8049, 2.1672, 1.7899,\n",
       "         1.9982, 2.1923, 2.1347, 1.7832, 2.3859, 2.0485, 1.5620, 1.9961, 1.7417,\n",
       "         2.0754, 2.2500, 2.0676, 2.3839, 1.9085, 2.2718, 2.1673, 2.4120, 2.0183,\n",
       "         2.4667, 2.0328, 2.2049, 1.8070, 1.9701, 2.2905, 1.9798, 1.8377, 2.2524,\n",
       "         2.1537, 1.9691, 2.1055, 2.0068, 1.8582, 2.0642, 1.9051, 2.0913, 2.5346,\n",
       "         2.2774, 1.7459]])"
      ]
     },
     "execution_count": 84,
     "metadata": {},
     "output_type": "execute_result"
    }
   ],
   "source": [
    "bnstd_running"
   ]
  },
  {
   "cell_type": "code",
   "execution_count": 91,
   "metadata": {},
   "outputs": [
    {
     "name": "stdout",
     "output_type": "stream",
     "text": [
      "train 2.151854991912842\n",
      "val 2.2046358585357666\n"
     ]
    }
   ],
   "source": [
    "@torch.no_grad() # this decorator disables gradient tracking\n",
    "def split_loss(split):\n",
    "  x,y = {\n",
    "    'train': (Xtr, Ytr),\n",
    "    'val': (Xdev, Ydev),\n",
    "    'test': (Xte, Yte),\n",
    "  }[split]\n",
    "  emb = C[x] # (N, block_size, n_embd)\n",
    "  embcat = emb.view(emb.shape[0], -1) # concat into (N, block_size * n_embd)\n",
    "  hpreact = embcat @ W1  #+ b1\n",
    "  # hpreact = bngain * (hpreact - hpreact.mean(0, keepdim=True)) / hpreact.std() + bnbias\n",
    "  hpreact = bngain *  (hpreact - bnmean) / bnstd + bnbias\n",
    "  h = torch.tanh(hpreact) # (N, n_hidden) \n",
    "  logits = h @ W2 + b2 # (N, vocab_size)\n",
    "  loss = F.cross_entropy(logits, y)\n",
    "  print(split, loss.item())\n",
    "\n",
    "split_loss('train')\n",
    "split_loss('val')"
   ]
  },
  {
   "cell_type": "code",
   "execution_count": 74,
   "metadata": {},
   "outputs": [
    {
     "name": "stdout",
     "output_type": "stream",
     "text": [
      "chrishfatufillissemrix.\n",
      "taty.\n",
      "salfr.\n",
      "kejlahntlfagdrystopheriffergkirrchrishivsomiybh.\n",
      "bluffiriquijn.\n",
      "sulie.\n",
      "sindelianaurfagdifraxixfkirinissandel.\n",
      "faisleghna.\n",
      "jesslyah.\n",
      "asmberthissa.\n",
      "saquovozswylojnnikotifrendepraadlie.\n",
      "shoussicorgiorgnir.\n",
      "quiliannarek.\n",
      "quiloqifranteventreeftotygbrcodestrpycessly.\n",
      "kercenzahnnyxaddrik.\n",
      "sasdanikotalden.\n",
      "bry.\n",
      "quilto.\n",
      "rohk.\n",
      "krishnnekirrenzlillyz.\n"
     ]
    }
   ],
   "source": [
    "# sample from\n",
    "\n",
    "g = torch.Generator ().manual_seed (2147483647 + 10)\n",
    "for _ in range(20):\n",
    "    out = []\n",
    "    context = [0] * block_size # initialize with all ...\n",
    "    while True:\n",
    "        # forward pass the neural net\n",
    "        emb = C[torch.tensor([context])]# (1,block_size,n_embd)\n",
    "        h = torch.tanh(emb.view(1, -1) @ W1 + b1)\n",
    "        logits = h @ W2 + b2\n",
    "        probs = F.softmax(logits, dim=1)\n",
    "        # sample from the distribution\n",
    "        ix = torch.multinomial(probs, num_samples=1, generator=g).item()\n",
    "        # shift the context window and track the samples\n",
    "        context = context [1:] + [ix]\n",
    "        out.append (ix)\n",
    "        if ix == 0:\n",
    "            break\n",
    "\n",
    "    print(''.join(itos[i] for i in out))"
   ]
  },
  {
   "cell_type": "code",
   "execution_count": 19,
   "metadata": {},
   "outputs": [
    {
     "data": {
      "text/plain": [
       "[11, 1, 5, 12, 0]"
      ]
     },
     "execution_count": 19,
     "metadata": {},
     "output_type": "execute_result"
    }
   ],
   "source": [
    "out"
   ]
  }
 ],
 "metadata": {
  "kernelspec": {
   "display_name": ".venv",
   "language": "python",
   "name": "python3"
  },
  "language_info": {
   "codemirror_mode": {
    "name": "ipython",
    "version": 3
   },
   "file_extension": ".py",
   "mimetype": "text/x-python",
   "name": "python",
   "nbconvert_exporter": "python",
   "pygments_lexer": "ipython3",
   "version": "3.12.5"
  }
 },
 "nbformat": 4,
 "nbformat_minor": 2
}
